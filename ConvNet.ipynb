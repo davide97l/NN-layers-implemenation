{
  "nbformat": 4,
  "nbformat_minor": 0,
  "metadata": {
    "kernelspec": {
      "name": "python3",
      "display_name": "Python 3"
    },
    "language_info": {
      "codemirror_mode": {
        "name": "ipython",
        "version": 3
      },
      "file_extension": ".py",
      "mimetype": "text/x-python",
      "name": "python",
      "nbconvert_exporter": "python",
      "pygments_lexer": "ipython3",
      "version": "3.6.10"
    },
    "colab": {
      "name": "homework-3-conv.ipynb",
      "provenance": [],
      "machine_shape": "hm"
    },
    "accelerator": "GPU"
  },
  "cells": [
    {
      "cell_type": "markdown",
      "metadata": {
        "id": "9dEIIM3tZApx",
        "colab_type": "text"
      },
      "source": [
        "## Homework-3: MNIST Classification with ConvNet\n",
        "\n",
        "### **Deadline: 2020.04.07 11:59:00 AM**\n",
        "\n",
        "### In this homework, you need to\n",
        "- #### implement forward and backward for ConvLayer (`layers/conv_layer.py`)\n",
        "- #### implement forward and backward for PoolingLayer (`layers/pooling_layer.py`)\n",
        "- #### implement forward and backward for DropoutLayer (`layers/dropout_layer.py`)"
      ]
    },
    {
      "cell_type": "code",
      "metadata": {
        "id": "tJljzWXsZAp0",
        "colab_type": "code",
        "colab": {
          "base_uri": "https://localhost:8080/",
          "height": 62
        },
        "outputId": "f54fb295-13e8-467c-bc78-f9698df1d4e7"
      },
      "source": [
        "import numpy as np\n",
        "import matplotlib.pyplot as plt\n",
        "%matplotlib inline\n",
        "import tensorflow.compat.v1 as tf\n",
        "tf.disable_eager_execution()\n",
        "\n",
        "from network import Network\n",
        "from solver import train, test\n",
        "from plot import plot_loss_and_acc"
      ],
      "execution_count": 4,
      "outputs": [
        {
          "output_type": "display_data",
          "data": {
            "text/html": [
              "<p style=\"color: red;\">\n",
              "The default version of TensorFlow in Colab will soon switch to TensorFlow 2.x.<br>\n",
              "We recommend you <a href=\"https://www.tensorflow.org/guide/migrate\" target=\"_blank\">upgrade</a> now \n",
              "or ensure your notebook will continue to use TensorFlow 1.x via the <code>%tensorflow_version 1.x</code> magic:\n",
              "<a href=\"https://colab.research.google.com/notebooks/tensorflow_version.ipynb\" target=\"_blank\">more info</a>.</p>\n"
            ],
            "text/plain": [
              "<IPython.core.display.HTML object>"
            ]
          },
          "metadata": {
            "tags": []
          }
        }
      ]
    },
    {
      "cell_type": "markdown",
      "metadata": {
        "id": "WoiKZV1CZAp4",
        "colab_type": "text"
      },
      "source": [
        "## Load MNIST Dataset\n",
        "We use tensorflow tools to load dataset for convenience."
      ]
    },
    {
      "cell_type": "code",
      "metadata": {
        "id": "XFSO-fEzZAp5",
        "colab_type": "code",
        "colab": {
          "base_uri": "https://localhost:8080/",
          "height": 50
        },
        "outputId": "30d7a256-963d-4688-fe13-112c9e3a4599"
      },
      "source": [
        "(x_train, y_train), (x_test, y_test) = tf.keras.datasets.mnist.load_data()"
      ],
      "execution_count": 5,
      "outputs": [
        {
          "output_type": "stream",
          "text": [
            "Downloading data from https://storage.googleapis.com/tensorflow/tf-keras-datasets/mnist.npz\n",
            "11493376/11490434 [==============================] - 0s 0us/step\n"
          ],
          "name": "stdout"
        }
      ]
    },
    {
      "cell_type": "code",
      "metadata": {
        "id": "F_BGDCAXZAp8",
        "colab_type": "code",
        "colab": {}
      },
      "source": [
        "def decode_image(image):\n",
        "    # Normalize from [0, 255.] to [0., 1.0], and then subtract by the mean value\n",
        "    image = tf.cast(image, tf.float32)\n",
        "    image = tf.reshape(image, [1, 28, 28])\n",
        "    image = image / 255.0\n",
        "    image = image - tf.reduce_mean(image)\n",
        "    return image\n",
        "\n",
        "def decode_label(label):\n",
        "    # Encode label with one-hot encoding\n",
        "    return tf.one_hot(label, depth=10)"
      ],
      "execution_count": 0,
      "outputs": []
    },
    {
      "cell_type": "code",
      "metadata": {
        "id": "G3u35SAGZAp_",
        "colab_type": "code",
        "colab": {}
      },
      "source": [
        "# Data Preprocessing\n",
        "x_train = tf.data.Dataset.from_tensor_slices(x_train).map(decode_image)\n",
        "y_train = tf.data.Dataset.from_tensor_slices(y_train).map(decode_label)\n",
        "data_train = tf.data.Dataset.zip((x_train, y_train))\n",
        "x_test = tf.data.Dataset.from_tensor_slices(x_test).map(decode_image)\n",
        "y_test = tf.data.Dataset.from_tensor_slices(y_test).map(decode_label)\n",
        "data_test = tf.data.Dataset.zip((x_test, y_test))"
      ],
      "execution_count": 0,
      "outputs": []
    },
    {
      "cell_type": "markdown",
      "metadata": {
        "id": "R3tYN5JsZAqC",
        "colab_type": "text"
      },
      "source": [
        "## Set Hyperparameters\n",
        "You can modify hyperparameters by yourself."
      ]
    },
    {
      "cell_type": "code",
      "metadata": {
        "id": "j7YQUEodZAqC",
        "colab_type": "code",
        "colab": {}
      },
      "source": [
        "batch_size = 100\n",
        "max_epoch = 10\n",
        "init_std = 0.01\n",
        "\n",
        "learning_rate = 0.001\n",
        "weight_decay = 0.005\n",
        "\n",
        "disp_freq = 50"
      ],
      "execution_count": 0,
      "outputs": []
    },
    {
      "cell_type": "markdown",
      "metadata": {
        "id": "fNxeLcf6ZAqG",
        "colab_type": "text"
      },
      "source": [
        "## Criterion and Optimizer"
      ]
    },
    {
      "cell_type": "code",
      "metadata": {
        "id": "hIj5UbHrZAqH",
        "colab_type": "code",
        "colab": {}
      },
      "source": [
        "from criterion import SoftmaxCrossEntropyLossLayer\n",
        "from optimizer import SGD\n",
        "\n",
        "criterion = SoftmaxCrossEntropyLossLayer()\n",
        "sgd = SGD(learning_rate, weight_decay)"
      ],
      "execution_count": 0,
      "outputs": []
    },
    {
      "cell_type": "markdown",
      "metadata": {
        "id": "AGYwJPC3ZAqK",
        "colab_type": "text"
      },
      "source": [
        "## ConvNet"
      ]
    },
    {
      "cell_type": "code",
      "metadata": {
        "id": "H5tNNwUVZAqK",
        "colab_type": "code",
        "colab": {}
      },
      "source": [
        "from layers import FCLayer, ReLULayer, ConvLayer, MaxPoolingLayer, ReshapeLayer\n",
        "\n",
        "convNet = Network()\n",
        "convNet.add(ConvLayer(1, 8, 3, 1))\n",
        "convNet.add(ReLULayer())\n",
        "convNet.add(MaxPoolingLayer(2, 0))\n",
        "convNet.add(ConvLayer(8, 16, 3, 1))\n",
        "convNet.add(ReLULayer())\n",
        "convNet.add(MaxPoolingLayer(2, 0))\n",
        "convNet.add(ReshapeLayer((batch_size, 16, 7, 7), (batch_size, 784)))\n",
        "convNet.add(FCLayer(784, 128))\n",
        "convNet.add(ReLULayer())\n",
        "convNet.add(FCLayer(128, 10))"
      ],
      "execution_count": 0,
      "outputs": []
    },
    {
      "cell_type": "code",
      "metadata": {
        "id": "MZI33TqQZAqO",
        "colab_type": "code",
        "colab": {
          "base_uri": "https://localhost:8080/",
          "height": 1000
        },
        "outputId": "6bdb89ab-0544-48d7-c217-2eeb24113a1a"
      },
      "source": [
        "# Train\n",
        "convNet.is_training = True\n",
        "convNet, conv_loss, conv_acc = train(convNet, criterion, sgd, data_train, max_epoch, batch_size, disp_freq)"
      ],
      "execution_count": 11,
      "outputs": [
        {
          "output_type": "stream",
          "text": [
            "WARNING:tensorflow:From /content/drive/My Drive/homeworkDL/solver.py:14: DatasetV1.make_one_shot_iterator (from tensorflow.python.data.ops.dataset_ops) is deprecated and will be removed in a future version.\n",
            "Instructions for updating:\n",
            "Use `for ... in dataset:` to iterate over a dataset. If using `tf.estimator`, return the `Dataset` object directly from your input function. As a last resort, you can use `tf.compat.v1.data.make_one_shot_iterator(dataset)`.\n",
            "WARNING:tensorflow:From /content/drive/My Drive/homeworkDL/solver.py:15: The name tf.Session is deprecated. Please use tf.compat.v1.Session instead.\n",
            "\n",
            "Epoch [0][10]\t Batch [0][550]\t Training Loss 15.1622\t Accuracy 0.1400\n",
            "Epoch [0][10]\t Batch [50][550]\t Training Loss 3.1455\t Accuracy 0.2427\n",
            "Epoch [0][10]\t Batch [100][550]\t Training Loss 2.4816\t Accuracy 0.3293\n",
            "Epoch [0][10]\t Batch [150][550]\t Training Loss 2.1578\t Accuracy 0.3883\n",
            "Epoch [0][10]\t Batch [200][550]\t Training Loss 1.9369\t Accuracy 0.4371\n",
            "Epoch [0][10]\t Batch [250][550]\t Training Loss 1.7740\t Accuracy 0.4744\n",
            "Epoch [0][10]\t Batch [300][550]\t Training Loss 1.6419\t Accuracy 0.5078\n",
            "Epoch [0][10]\t Batch [350][550]\t Training Loss 1.5440\t Accuracy 0.5336\n",
            "Epoch [0][10]\t Batch [400][550]\t Training Loss 1.4580\t Accuracy 0.5559\n",
            "Epoch [0][10]\t Batch [450][550]\t Training Loss 1.3867\t Accuracy 0.5758\n",
            "Epoch [0][10]\t Batch [500][550]\t Training Loss 1.3240\t Accuracy 0.5943\n",
            "\n",
            "Epoch [0]\t Average training loss 1.2692\t Average training accuracy 0.6105\n",
            "Epoch [0]\t Average validation loss 0.5725\t Average validation accuracy 0.8236\n",
            "\n",
            "Epoch [1][10]\t Batch [0][550]\t Training Loss 0.6051\t Accuracy 0.8300\n",
            "Epoch [1][10]\t Batch [50][550]\t Training Loss 0.6437\t Accuracy 0.7945\n",
            "Epoch [1][10]\t Batch [100][550]\t Training Loss 0.6490\t Accuracy 0.7932\n",
            "Epoch [1][10]\t Batch [150][550]\t Training Loss 0.6484\t Accuracy 0.7948\n",
            "Epoch [1][10]\t Batch [200][550]\t Training Loss 0.6375\t Accuracy 0.7986\n",
            "Epoch [1][10]\t Batch [250][550]\t Training Loss 0.6257\t Accuracy 0.8020\n",
            "Epoch [1][10]\t Batch [300][550]\t Training Loss 0.6139\t Accuracy 0.8069\n",
            "Epoch [1][10]\t Batch [350][550]\t Training Loss 0.6075\t Accuracy 0.8087\n",
            "Epoch [1][10]\t Batch [400][550]\t Training Loss 0.5977\t Accuracy 0.8119\n",
            "Epoch [1][10]\t Batch [450][550]\t Training Loss 0.5897\t Accuracy 0.8155\n",
            "Epoch [1][10]\t Batch [500][550]\t Training Loss 0.5822\t Accuracy 0.8178\n",
            "\n",
            "Epoch [1]\t Average training loss 0.5747\t Average training accuracy 0.8209\n",
            "Epoch [1]\t Average validation loss 0.3875\t Average validation accuracy 0.8818\n",
            "\n",
            "Epoch [2][10]\t Batch [0][550]\t Training Loss 0.4349\t Accuracy 0.8900\n",
            "Epoch [2][10]\t Batch [50][550]\t Training Loss 0.4507\t Accuracy 0.8612\n",
            "Epoch [2][10]\t Batch [100][550]\t Training Loss 0.4643\t Accuracy 0.8568\n",
            "Epoch [2][10]\t Batch [150][550]\t Training Loss 0.4716\t Accuracy 0.8559\n",
            "Epoch [2][10]\t Batch [200][550]\t Training Loss 0.4680\t Accuracy 0.8557\n",
            "Epoch [2][10]\t Batch [250][550]\t Training Loss 0.4628\t Accuracy 0.8570\n",
            "Epoch [2][10]\t Batch [300][550]\t Training Loss 0.4588\t Accuracy 0.8590\n",
            "Epoch [2][10]\t Batch [350][550]\t Training Loss 0.4581\t Accuracy 0.8590\n",
            "Epoch [2][10]\t Batch [400][550]\t Training Loss 0.4539\t Accuracy 0.8603\n",
            "Epoch [2][10]\t Batch [450][550]\t Training Loss 0.4507\t Accuracy 0.8621\n",
            "Epoch [2][10]\t Batch [500][550]\t Training Loss 0.4483\t Accuracy 0.8623\n",
            "\n",
            "Epoch [2]\t Average training loss 0.4455\t Average training accuracy 0.8633\n",
            "Epoch [2]\t Average validation loss 0.3178\t Average validation accuracy 0.9038\n",
            "\n",
            "Epoch [3][10]\t Batch [0][550]\t Training Loss 0.3749\t Accuracy 0.9000\n",
            "Epoch [3][10]\t Batch [50][550]\t Training Loss 0.3724\t Accuracy 0.8837\n",
            "Epoch [3][10]\t Batch [100][550]\t Training Loss 0.3876\t Accuracy 0.8788\n",
            "Epoch [3][10]\t Batch [150][550]\t Training Loss 0.3961\t Accuracy 0.8781\n",
            "Epoch [3][10]\t Batch [200][550]\t Training Loss 0.3937\t Accuracy 0.8792\n",
            "Epoch [3][10]\t Batch [250][550]\t Training Loss 0.3900\t Accuracy 0.8796\n",
            "Epoch [3][10]\t Batch [300][550]\t Training Loss 0.3880\t Accuracy 0.8810\n",
            "Epoch [3][10]\t Batch [350][550]\t Training Loss 0.3888\t Accuracy 0.8805\n",
            "Epoch [3][10]\t Batch [400][550]\t Training Loss 0.3863\t Accuracy 0.8813\n",
            "Epoch [3][10]\t Batch [450][550]\t Training Loss 0.3843\t Accuracy 0.8826\n",
            "Epoch [3][10]\t Batch [500][550]\t Training Loss 0.3836\t Accuracy 0.8824\n",
            "\n",
            "Epoch [3]\t Average training loss 0.3824\t Average training accuracy 0.8832\n",
            "Epoch [3]\t Average validation loss 0.2778\t Average validation accuracy 0.9174\n",
            "\n",
            "Epoch [4][10]\t Batch [0][550]\t Training Loss 0.3443\t Accuracy 0.9100\n",
            "Epoch [4][10]\t Batch [50][550]\t Training Loss 0.3273\t Accuracy 0.9008\n",
            "Epoch [4][10]\t Batch [100][550]\t Training Loss 0.3422\t Accuracy 0.8944\n",
            "Epoch [4][10]\t Batch [150][550]\t Training Loss 0.3506\t Accuracy 0.8942\n",
            "Epoch [4][10]\t Batch [200][550]\t Training Loss 0.3485\t Accuracy 0.8946\n",
            "Epoch [4][10]\t Batch [250][550]\t Training Loss 0.3454\t Accuracy 0.8946\n",
            "Epoch [4][10]\t Batch [300][550]\t Training Loss 0.3442\t Accuracy 0.8952\n",
            "Epoch [4][10]\t Batch [350][550]\t Training Loss 0.3455\t Accuracy 0.8945\n",
            "Epoch [4][10]\t Batch [400][550]\t Training Loss 0.3437\t Accuracy 0.8952\n",
            "Epoch [4][10]\t Batch [450][550]\t Training Loss 0.3425\t Accuracy 0.8961\n",
            "Epoch [4][10]\t Batch [500][550]\t Training Loss 0.3425\t Accuracy 0.8955\n",
            "\n",
            "Epoch [4]\t Average training loss 0.3421\t Average training accuracy 0.8961\n",
            "Epoch [4]\t Average validation loss 0.2504\t Average validation accuracy 0.9270\n",
            "\n",
            "Epoch [5][10]\t Batch [0][550]\t Training Loss 0.3221\t Accuracy 0.9100\n",
            "Epoch [5][10]\t Batch [50][550]\t Training Loss 0.2966\t Accuracy 0.9118\n",
            "Epoch [5][10]\t Batch [100][550]\t Training Loss 0.3111\t Accuracy 0.9052\n",
            "Epoch [5][10]\t Batch [150][550]\t Training Loss 0.3190\t Accuracy 0.9043\n",
            "Epoch [5][10]\t Batch [200][550]\t Training Loss 0.3169\t Accuracy 0.9043\n",
            "Epoch [5][10]\t Batch [250][550]\t Training Loss 0.3141\t Accuracy 0.9047\n",
            "Epoch [5][10]\t Batch [300][550]\t Training Loss 0.3133\t Accuracy 0.9050\n",
            "Epoch [5][10]\t Batch [350][550]\t Training Loss 0.3148\t Accuracy 0.9044\n",
            "Epoch [5][10]\t Batch [400][550]\t Training Loss 0.3135\t Accuracy 0.9049\n",
            "Epoch [5][10]\t Batch [450][550]\t Training Loss 0.3126\t Accuracy 0.9057\n",
            "Epoch [5][10]\t Batch [500][550]\t Training Loss 0.3130\t Accuracy 0.9049\n",
            "\n",
            "Epoch [5]\t Average training loss 0.3130\t Average training accuracy 0.9052\n",
            "Epoch [5]\t Average validation loss 0.2304\t Average validation accuracy 0.9322\n",
            "\n",
            "Epoch [6][10]\t Batch [0][550]\t Training Loss 0.3072\t Accuracy 0.9200\n",
            "Epoch [6][10]\t Batch [50][550]\t Training Loss 0.2741\t Accuracy 0.9206\n",
            "Epoch [6][10]\t Batch [100][550]\t Training Loss 0.2878\t Accuracy 0.9131\n",
            "Epoch [6][10]\t Batch [150][550]\t Training Loss 0.2951\t Accuracy 0.9117\n",
            "Epoch [6][10]\t Batch [200][550]\t Training Loss 0.2931\t Accuracy 0.9113\n",
            "Epoch [6][10]\t Batch [250][550]\t Training Loss 0.2904\t Accuracy 0.9118\n",
            "Epoch [6][10]\t Batch [300][550]\t Training Loss 0.2898\t Accuracy 0.9120\n",
            "Epoch [6][10]\t Batch [350][550]\t Training Loss 0.2914\t Accuracy 0.9113\n",
            "Epoch [6][10]\t Batch [400][550]\t Training Loss 0.2902\t Accuracy 0.9119\n",
            "Epoch [6][10]\t Batch [450][550]\t Training Loss 0.2896\t Accuracy 0.9127\n",
            "Epoch [6][10]\t Batch [500][550]\t Training Loss 0.2902\t Accuracy 0.9121\n",
            "\n",
            "Epoch [6]\t Average training loss 0.2905\t Average training accuracy 0.9123\n",
            "Epoch [6]\t Average validation loss 0.2143\t Average validation accuracy 0.9376\n",
            "\n",
            "Epoch [7][10]\t Batch [0][550]\t Training Loss 0.2937\t Accuracy 0.9300\n",
            "Epoch [7][10]\t Batch [50][550]\t Training Loss 0.2563\t Accuracy 0.9265\n",
            "Epoch [7][10]\t Batch [100][550]\t Training Loss 0.2693\t Accuracy 0.9189\n",
            "Epoch [7][10]\t Batch [150][550]\t Training Loss 0.2760\t Accuracy 0.9174\n",
            "Epoch [7][10]\t Batch [200][550]\t Training Loss 0.2740\t Accuracy 0.9174\n",
            "Epoch [7][10]\t Batch [250][550]\t Training Loss 0.2715\t Accuracy 0.9178\n",
            "Epoch [7][10]\t Batch [300][550]\t Training Loss 0.2709\t Accuracy 0.9179\n",
            "Epoch [7][10]\t Batch [350][550]\t Training Loss 0.2725\t Accuracy 0.9173\n",
            "Epoch [7][10]\t Batch [400][550]\t Training Loss 0.2715\t Accuracy 0.9178\n",
            "Epoch [7][10]\t Batch [450][550]\t Training Loss 0.2710\t Accuracy 0.9183\n",
            "Epoch [7][10]\t Batch [500][550]\t Training Loss 0.2717\t Accuracy 0.9176\n",
            "\n",
            "Epoch [7]\t Average training loss 0.2722\t Average training accuracy 0.9178\n",
            "Epoch [7]\t Average validation loss 0.2014\t Average validation accuracy 0.9422\n",
            "\n",
            "Epoch [8][10]\t Batch [0][550]\t Training Loss 0.2843\t Accuracy 0.9300\n",
            "Epoch [8][10]\t Batch [50][550]\t Training Loss 0.2416\t Accuracy 0.9302\n",
            "Epoch [8][10]\t Batch [100][550]\t Training Loss 0.2539\t Accuracy 0.9231\n",
            "Epoch [8][10]\t Batch [150][550]\t Training Loss 0.2602\t Accuracy 0.9220\n",
            "Epoch [8][10]\t Batch [200][550]\t Training Loss 0.2582\t Accuracy 0.9220\n",
            "Epoch [8][10]\t Batch [250][550]\t Training Loss 0.2557\t Accuracy 0.9223\n",
            "Epoch [8][10]\t Batch [300][550]\t Training Loss 0.2551\t Accuracy 0.9225\n",
            "Epoch [8][10]\t Batch [350][550]\t Training Loss 0.2567\t Accuracy 0.9218\n",
            "Epoch [8][10]\t Batch [400][550]\t Training Loss 0.2559\t Accuracy 0.9221\n",
            "Epoch [8][10]\t Batch [450][550]\t Training Loss 0.2555\t Accuracy 0.9227\n",
            "Epoch [8][10]\t Batch [500][550]\t Training Loss 0.2563\t Accuracy 0.9221\n",
            "\n",
            "Epoch [8]\t Average training loss 0.2569\t Average training accuracy 0.9223\n",
            "Epoch [8]\t Average validation loss 0.1908\t Average validation accuracy 0.9462\n",
            "\n",
            "Epoch [9][10]\t Batch [0][550]\t Training Loss 0.2743\t Accuracy 0.9300\n",
            "Epoch [9][10]\t Batch [50][550]\t Training Loss 0.2292\t Accuracy 0.9327\n",
            "Epoch [9][10]\t Batch [100][550]\t Training Loss 0.2409\t Accuracy 0.9258\n",
            "Epoch [9][10]\t Batch [150][550]\t Training Loss 0.2467\t Accuracy 0.9248\n",
            "Epoch [9][10]\t Batch [200][550]\t Training Loss 0.2447\t Accuracy 0.9252\n",
            "Epoch [9][10]\t Batch [250][550]\t Training Loss 0.2423\t Accuracy 0.9257\n",
            "Epoch [9][10]\t Batch [300][550]\t Training Loss 0.2417\t Accuracy 0.9261\n",
            "Epoch [9][10]\t Batch [350][550]\t Training Loss 0.2433\t Accuracy 0.9255\n",
            "Epoch [9][10]\t Batch [400][550]\t Training Loss 0.2426\t Accuracy 0.9258\n",
            "Epoch [9][10]\t Batch [450][550]\t Training Loss 0.2423\t Accuracy 0.9263\n",
            "Epoch [9][10]\t Batch [500][550]\t Training Loss 0.2432\t Accuracy 0.9258\n",
            "\n",
            "Epoch [9]\t Average training loss 0.2438\t Average training accuracy 0.9259\n",
            "Epoch [9]\t Average validation loss 0.1817\t Average validation accuracy 0.9500\n",
            "\n"
          ],
          "name": "stdout"
        }
      ]
    },
    {
      "cell_type": "code",
      "metadata": {
        "id": "kb5OYLDrZAqR",
        "colab_type": "code",
        "colab": {
          "base_uri": "https://localhost:8080/",
          "height": 121
        },
        "outputId": "17fcb2e5-8a8d-4620-eab8-3802c19cd5a2"
      },
      "source": [
        "# Test\n",
        "convNet.is_training = False\n",
        "test(convNet, criterion, data_test, batch_size, disp_freq)"
      ],
      "execution_count": 12,
      "outputs": [
        {
          "output_type": "stream",
          "text": [
            "Testing...\n",
            "WARNING:tensorflow:From /content/drive/My Drive/homeworkDL/solver.py:110: The name tf.ConfigProto is deprecated. Please use tf.compat.v1.ConfigProto instead.\n",
            "\n",
            "The test accuracy is 0.9329.\n",
            "\n"
          ],
          "name": "stdout"
        }
      ]
    },
    {
      "cell_type": "markdown",
      "metadata": {
        "id": "bWyfGJB3ZAqU",
        "colab_type": "text"
      },
      "source": [
        "## Plot"
      ]
    },
    {
      "cell_type": "code",
      "metadata": {
        "id": "1pfKKbLfZAqV",
        "colab_type": "code",
        "colab": {
          "base_uri": "https://localhost:8080/",
          "height": 545
        },
        "outputId": "db51e5c2-74e2-464d-8630-fa51081565ca"
      },
      "source": [
        "plot_loss_and_acc({'ConvNet': [conv_loss, conv_acc]})"
      ],
      "execution_count": 13,
      "outputs": [
        {
          "output_type": "display_data",
          "data": {
            "image/png": "[encoded data removed]",
            "text/plain": [
              "<Figure size 432x288 with 1 Axes>"
            ]
          },
          "metadata": {
            "tags": []
          }
        },
        {
          "output_type": "display_data",
          "data": {
            "image/png": "[encoded data removed]",
            "text/plain": [
              "<Figure size 432x288 with 1 Axes>"
            ]
          },
          "metadata": {
            "tags": []
          }
        }
      ]
    },
    {
      "cell_type": "markdown",
      "metadata": {
        "id": "vwEtsc8JZAqX",
        "colab_type": "text"
      },
      "source": [
        "### ~~You have finished homework3, congratulations!~~  \n",
        "\n",
        "**Next, according to the requirements (4):**\n",
        "### **You need to implement the Dropout layer and train the network again.**"
      ]
    },
    {
      "cell_type": "code",
      "metadata": {
        "id": "PlZlZGKrZAqY",
        "colab_type": "code",
        "colab": {
          "base_uri": "https://localhost:8080/",
          "height": 1000
        },
        "outputId": "f60960a6-2b39-4b89-fd2e-f025466d15dd"
      },
      "source": [
        "from layers import DropoutLayer\n",
        "\n",
        "# set hyperparameters\n",
        "batch_size = 100\n",
        "max_epoch = 10\n",
        "init_std = 0.01\n",
        "learning_rate = 0.001\n",
        "weight_decay = 0.\n",
        "disp_freq = 50\n",
        "\n",
        "# build your network\n",
        "convNet = Network()\n",
        "convNet.add(ConvLayer(1, 8, 3, 1))\n",
        "convNet.add(ReLULayer())\n",
        "convNet.add(MaxPoolingLayer(2, 0))\n",
        "convNet.add(ConvLayer(8, 16, 3, 1))\n",
        "convNet.add(ReLULayer())\n",
        "convNet.add(MaxPoolingLayer(2, 0))\n",
        "convNet.add(ReshapeLayer((batch_size, 16, 7, 7), (batch_size, 784)))\n",
        "convNet.add(FCLayer(784, 128))\n",
        "convNet.add(ReLULayer())\n",
        "convNet.add(DropoutLayer(0.2))\n",
        "convNet.add(FCLayer(128, 10))\n",
        "\n",
        "# training\n",
        "convNet.is_training = True\n",
        "convNet, conv_loss, conv_acc = train(convNet, criterion, sgd, data_train, max_epoch, batch_size, disp_freq)\n",
        "\n",
        "# testing\n",
        "convNet.is_training = False\n",
        "test(convNet, criterion, data_test, batch_size, disp_freq)\n",
        "\n",
        "# plot\n",
        "plot_loss_and_acc({'ConvNet': [conv_loss, conv_acc]})"
      ],
      "execution_count": 17,
      "outputs": [
        {
          "output_type": "stream",
          "text": [
            "Epoch [0][10]\t Batch [0][550]\t Training Loss 3.8838\t Accuracy 0.1400\n",
            "Epoch [0][10]\t Batch [50][550]\t Training Loss 2.6656\t Accuracy 0.1588\n",
            "Epoch [0][10]\t Batch [100][550]\t Training Loss 2.4908\t Accuracy 0.1812\n",
            "Epoch [0][10]\t Batch [150][550]\t Training Loss 2.3728\t Accuracy 0.2031\n",
            "Epoch [0][10]\t Batch [200][550]\t Training Loss 2.2739\t Accuracy 0.2311\n",
            "Epoch [0][10]\t Batch [250][550]\t Training Loss 2.1903\t Accuracy 0.2559\n",
            "Epoch [0][10]\t Batch [300][550]\t Training Loss 2.1129\t Accuracy 0.2834\n",
            "Epoch [0][10]\t Batch [350][550]\t Training Loss 2.0534\t Accuracy 0.3058\n",
            "Epoch [0][10]\t Batch [400][550]\t Training Loss 1.9938\t Accuracy 0.3269\n",
            "Epoch [0][10]\t Batch [450][550]\t Training Loss 1.9427\t Accuracy 0.3456\n",
            "Epoch [0][10]\t Batch [500][550]\t Training Loss 1.8956\t Accuracy 0.3636\n",
            "\n",
            "Epoch [0]\t Average training loss 1.8496\t Average training accuracy 0.3809\n",
            "Epoch [0]\t Average validation loss 1.2970\t Average validation accuracy 0.5990\n",
            "\n",
            "Epoch [1][10]\t Batch [0][550]\t Training Loss 1.2196\t Accuracy 0.6600\n",
            "Epoch [1][10]\t Batch [50][550]\t Training Loss 1.3186\t Accuracy 0.5876\n",
            "Epoch [1][10]\t Batch [100][550]\t Training Loss 1.2993\t Accuracy 0.5956\n",
            "Epoch [1][10]\t Batch [150][550]\t Training Loss 1.2804\t Accuracy 0.6007\n",
            "Epoch [1][10]\t Batch [200][550]\t Training Loss 1.2601\t Accuracy 0.6092\n",
            "Epoch [1][10]\t Batch [250][550]\t Training Loss 1.2377\t Accuracy 0.6161\n",
            "Epoch [1][10]\t Batch [300][550]\t Training Loss 1.2147\t Accuracy 0.6241\n",
            "Epoch [1][10]\t Batch [350][550]\t Training Loss 1.1991\t Accuracy 0.6292\n",
            "Epoch [1][10]\t Batch [400][550]\t Training Loss 1.1791\t Accuracy 0.6362\n",
            "Epoch [1][10]\t Batch [450][550]\t Training Loss 1.1599\t Accuracy 0.6425\n",
            "Epoch [1][10]\t Batch [500][550]\t Training Loss 1.1431\t Accuracy 0.6477\n",
            "\n",
            "Epoch [1]\t Average training loss 1.1240\t Average training accuracy 0.6539\n",
            "Epoch [1]\t Average validation loss 0.8441\t Average validation accuracy 0.7548\n",
            "\n",
            "Epoch [2][10]\t Batch [0][550]\t Training Loss 0.8651\t Accuracy 0.8100\n",
            "Epoch [2][10]\t Batch [50][550]\t Training Loss 0.8885\t Accuracy 0.7365\n",
            "Epoch [2][10]\t Batch [100][550]\t Training Loss 0.8853\t Accuracy 0.7373\n",
            "Epoch [2][10]\t Batch [150][550]\t Training Loss 0.8864\t Accuracy 0.7370\n",
            "Epoch [2][10]\t Batch [200][550]\t Training Loss 0.8788\t Accuracy 0.7377\n",
            "Epoch [2][10]\t Batch [250][550]\t Training Loss 0.8683\t Accuracy 0.7408\n",
            "Epoch [2][10]\t Batch [300][550]\t Training Loss 0.8592\t Accuracy 0.7437\n",
            "Epoch [2][10]\t Batch [350][550]\t Training Loss 0.8559\t Accuracy 0.7446\n",
            "Epoch [2][10]\t Batch [400][550]\t Training Loss 0.8451\t Accuracy 0.7482\n",
            "Epoch [2][10]\t Batch [450][550]\t Training Loss 0.8378\t Accuracy 0.7492\n",
            "Epoch [2][10]\t Batch [500][550]\t Training Loss 0.8308\t Accuracy 0.7504\n",
            "\n",
            "Epoch [2]\t Average training loss 0.8210\t Average training accuracy 0.7532\n",
            "Epoch [2]\t Average validation loss 0.6214\t Average validation accuracy 0.8288\n",
            "\n",
            "Epoch [3][10]\t Batch [0][550]\t Training Loss 0.6481\t Accuracy 0.8300\n",
            "Epoch [3][10]\t Batch [50][550]\t Training Loss 0.6895\t Accuracy 0.7935\n",
            "Epoch [3][10]\t Batch [100][550]\t Training Loss 0.6934\t Accuracy 0.7937\n",
            "Epoch [3][10]\t Batch [150][550]\t Training Loss 0.7012\t Accuracy 0.7908\n",
            "Epoch [3][10]\t Batch [200][550]\t Training Loss 0.6953\t Accuracy 0.7926\n",
            "Epoch [3][10]\t Batch [250][550]\t Training Loss 0.6890\t Accuracy 0.7950\n",
            "Epoch [3][10]\t Batch [300][550]\t Training Loss 0.6834\t Accuracy 0.7965\n",
            "Epoch [3][10]\t Batch [350][550]\t Training Loss 0.6822\t Accuracy 0.7964\n",
            "Epoch [3][10]\t Batch [400][550]\t Training Loss 0.6758\t Accuracy 0.7986\n",
            "Epoch [3][10]\t Batch [450][550]\t Training Loss 0.6724\t Accuracy 0.8000\n",
            "Epoch [3][10]\t Batch [500][550]\t Training Loss 0.6686\t Accuracy 0.8008\n",
            "\n",
            "Epoch [3]\t Average training loss 0.6613\t Average training accuracy 0.8028\n",
            "Epoch [3]\t Average validation loss 0.5114\t Average validation accuracy 0.8522\n",
            "\n",
            "Epoch [4][10]\t Batch [0][550]\t Training Loss 0.5711\t Accuracy 0.8700\n",
            "Epoch [4][10]\t Batch [50][550]\t Training Loss 0.5842\t Accuracy 0.8261\n",
            "Epoch [4][10]\t Batch [100][550]\t Training Loss 0.5870\t Accuracy 0.8251\n",
            "Epoch [4][10]\t Batch [150][550]\t Training Loss 0.5937\t Accuracy 0.8218\n",
            "Epoch [4][10]\t Batch [200][550]\t Training Loss 0.5883\t Accuracy 0.8225\n",
            "Epoch [4][10]\t Batch [250][550]\t Training Loss 0.5867\t Accuracy 0.8230\n",
            "Epoch [4][10]\t Batch [300][550]\t Training Loss 0.5824\t Accuracy 0.8243\n",
            "Epoch [4][10]\t Batch [350][550]\t Training Loss 0.5828\t Accuracy 0.8242\n",
            "Epoch [4][10]\t Batch [400][550]\t Training Loss 0.5780\t Accuracy 0.8255\n",
            "Epoch [4][10]\t Batch [450][550]\t Training Loss 0.5764\t Accuracy 0.8259\n",
            "Epoch [4][10]\t Batch [500][550]\t Training Loss 0.5745\t Accuracy 0.8263\n",
            "\n",
            "Epoch [4]\t Average training loss 0.5709\t Average training accuracy 0.8275\n",
            "Epoch [4]\t Average validation loss 0.4429\t Average validation accuracy 0.8774\n",
            "\n",
            "Epoch [5][10]\t Batch [0][550]\t Training Loss 0.5077\t Accuracy 0.8800\n",
            "Epoch [5][10]\t Batch [50][550]\t Training Loss 0.5110\t Accuracy 0.8482\n",
            "Epoch [5][10]\t Batch [100][550]\t Training Loss 0.5147\t Accuracy 0.8491\n",
            "Epoch [5][10]\t Batch [150][550]\t Training Loss 0.5283\t Accuracy 0.8443\n",
            "Epoch [5][10]\t Batch [200][550]\t Training Loss 0.5262\t Accuracy 0.8449\n",
            "Epoch [5][10]\t Batch [250][550]\t Training Loss 0.5225\t Accuracy 0.8449\n",
            "Epoch [5][10]\t Batch [300][550]\t Training Loss 0.5192\t Accuracy 0.8456\n",
            "Epoch [5][10]\t Batch [350][550]\t Training Loss 0.5189\t Accuracy 0.8458\n",
            "Epoch [5][10]\t Batch [400][550]\t Training Loss 0.5164\t Accuracy 0.8462\n",
            "Epoch [5][10]\t Batch [450][550]\t Training Loss 0.5164\t Accuracy 0.8460\n",
            "Epoch [5][10]\t Batch [500][550]\t Training Loss 0.5163\t Accuracy 0.8455\n",
            "\n",
            "Epoch [5]\t Average training loss 0.5127\t Average training accuracy 0.8467\n",
            "Epoch [5]\t Average validation loss 0.4030\t Average validation accuracy 0.8886\n",
            "\n",
            "Epoch [6][10]\t Batch [0][550]\t Training Loss 0.5329\t Accuracy 0.8600\n",
            "Epoch [6][10]\t Batch [50][550]\t Training Loss 0.4696\t Accuracy 0.8586\n",
            "Epoch [6][10]\t Batch [100][550]\t Training Loss 0.4694\t Accuracy 0.8619\n",
            "Epoch [6][10]\t Batch [150][550]\t Training Loss 0.4785\t Accuracy 0.8581\n",
            "Epoch [6][10]\t Batch [200][550]\t Training Loss 0.4750\t Accuracy 0.8584\n",
            "Epoch [6][10]\t Batch [250][550]\t Training Loss 0.4728\t Accuracy 0.8583\n",
            "Epoch [6][10]\t Batch [300][550]\t Training Loss 0.4711\t Accuracy 0.8586\n",
            "Epoch [6][10]\t Batch [350][550]\t Training Loss 0.4722\t Accuracy 0.8583\n",
            "Epoch [6][10]\t Batch [400][550]\t Training Loss 0.4699\t Accuracy 0.8588\n",
            "Epoch [6][10]\t Batch [450][550]\t Training Loss 0.4687\t Accuracy 0.8592\n",
            "Epoch [6][10]\t Batch [500][550]\t Training Loss 0.4689\t Accuracy 0.8581\n",
            "\n",
            "Epoch [6]\t Average training loss 0.4662\t Average training accuracy 0.8590\n",
            "Epoch [6]\t Average validation loss 0.3640\t Average validation accuracy 0.8992\n",
            "\n",
            "Epoch [7][10]\t Batch [0][550]\t Training Loss 0.4185\t Accuracy 0.9000\n",
            "Epoch [7][10]\t Batch [50][550]\t Training Loss 0.4226\t Accuracy 0.8759\n",
            "Epoch [7][10]\t Batch [100][550]\t Training Loss 0.4323\t Accuracy 0.8716\n",
            "Epoch [7][10]\t Batch [150][550]\t Training Loss 0.4374\t Accuracy 0.8695\n",
            "Epoch [7][10]\t Batch [200][550]\t Training Loss 0.4355\t Accuracy 0.8709\n",
            "Epoch [7][10]\t Batch [250][550]\t Training Loss 0.4342\t Accuracy 0.8705\n",
            "Epoch [7][10]\t Batch [300][550]\t Training Loss 0.4325\t Accuracy 0.8707\n",
            "Epoch [7][10]\t Batch [350][550]\t Training Loss 0.4341\t Accuracy 0.8707\n",
            "Epoch [7][10]\t Batch [400][550]\t Training Loss 0.4319\t Accuracy 0.8714\n",
            "Epoch [7][10]\t Batch [450][550]\t Training Loss 0.4323\t Accuracy 0.8709\n",
            "Epoch [7][10]\t Batch [500][550]\t Training Loss 0.4331\t Accuracy 0.8700\n",
            "\n",
            "Epoch [7]\t Average training loss 0.4314\t Average training accuracy 0.8704\n",
            "Epoch [7]\t Average validation loss 0.3419\t Average validation accuracy 0.9018\n",
            "\n",
            "Epoch [8][10]\t Batch [0][550]\t Training Loss 0.4446\t Accuracy 0.9000\n",
            "Epoch [8][10]\t Batch [50][550]\t Training Loss 0.3956\t Accuracy 0.8847\n",
            "Epoch [8][10]\t Batch [100][550]\t Training Loss 0.4001\t Accuracy 0.8826\n",
            "Epoch [8][10]\t Batch [150][550]\t Training Loss 0.4104\t Accuracy 0.8778\n",
            "Epoch [8][10]\t Batch [200][550]\t Training Loss 0.4086\t Accuracy 0.8777\n",
            "Epoch [8][10]\t Batch [250][550]\t Training Loss 0.4061\t Accuracy 0.8780\n",
            "Epoch [8][10]\t Batch [300][550]\t Training Loss 0.4043\t Accuracy 0.8792\n",
            "Epoch [8][10]\t Batch [350][550]\t Training Loss 0.4060\t Accuracy 0.8797\n",
            "Epoch [8][10]\t Batch [400][550]\t Training Loss 0.4039\t Accuracy 0.8801\n",
            "Epoch [8][10]\t Batch [450][550]\t Training Loss 0.4040\t Accuracy 0.8799\n",
            "Epoch [8][10]\t Batch [500][550]\t Training Loss 0.4042\t Accuracy 0.8798\n",
            "\n",
            "Epoch [8]\t Average training loss 0.4026\t Average training accuracy 0.8803\n",
            "Epoch [8]\t Average validation loss 0.3243\t Average validation accuracy 0.9048\n",
            "\n",
            "Epoch [9][10]\t Batch [0][550]\t Training Loss 0.4033\t Accuracy 0.8900\n",
            "Epoch [9][10]\t Batch [50][550]\t Training Loss 0.3699\t Accuracy 0.8982\n",
            "Epoch [9][10]\t Batch [100][550]\t Training Loss 0.3766\t Accuracy 0.8922\n",
            "Epoch [9][10]\t Batch [150][550]\t Training Loss 0.3900\t Accuracy 0.8860\n",
            "Epoch [9][10]\t Batch [200][550]\t Training Loss 0.3894\t Accuracy 0.8852\n",
            "Epoch [9][10]\t Batch [250][550]\t Training Loss 0.3867\t Accuracy 0.8849\n",
            "Epoch [9][10]\t Batch [300][550]\t Training Loss 0.3852\t Accuracy 0.8858\n",
            "Epoch [9][10]\t Batch [350][550]\t Training Loss 0.3874\t Accuracy 0.8854\n",
            "Epoch [9][10]\t Batch [400][550]\t Training Loss 0.3866\t Accuracy 0.8858\n",
            "Epoch [9][10]\t Batch [450][550]\t Training Loss 0.3866\t Accuracy 0.8857\n",
            "Epoch [9][10]\t Batch [500][550]\t Training Loss 0.3872\t Accuracy 0.8850\n",
            "\n",
            "Epoch [9]\t Average training loss 0.3855\t Average training accuracy 0.8856\n",
            "Epoch [9]\t Average validation loss 0.2954\t Average validation accuracy 0.9162\n",
            "\n",
            "Testing...\n",
            "The test accuracy is 0.8985.\n",
            "\n"
          ],
          "name": "stdout"
        },
        {
          "output_type": "display_data",
          "data": {
            "image/png": "[encoded data removed]",
            "text/plain": [
              "<Figure size 432x288 with 1 Axes>"
            ]
          },
          "metadata": {
            "tags": []
          }
        },
        {
          "output_type": "display_data",
          "data": {
            "image/png": "[encoded data removed]",
            "text/plain": [
              "<Figure size 432x288 with 1 Axes>"
            ]
          },
          "metadata": {
            "tags": []
          }
        }
      ]
    },
    {
      "cell_type": "code",
      "metadata": {
        "id": "3pCJ5QKEZAqa",
        "colab_type": "code",
        "colab": {}
      },
      "source": [
        ""
      ],
      "execution_count": 0,
      "outputs": []
    }
  ]
}