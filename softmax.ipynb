{
  "nbformat": 4,
  "nbformat_minor": 0,
  "metadata": {
    "kernelspec": {
      "display_name": "Python 3",
      "language": "python",
      "name": "python3"
    },
    "language_info": {
      "codemirror_mode": {
        "name": "ipython",
        "version": 3
      },
      "file_extension": ".py",
      "mimetype": "text/x-python",
      "name": "python",
      "nbconvert_exporter": "python",
      "pygments_lexer": "ipython3",
      "version": "3.6.7"
    },
    "colab": {
      "name": "homework2-softmax.ipynb",
      "provenance": [],
      "collapsed_sections": []
    }
  },
  "cells": [
    {
      "cell_type": "markdown",
      "metadata": {
        "id": "lMm98tEy-XbJ",
        "colab_type": "text"
      },
      "source": [
        "# Homework-2: Softmax for MNIST Classification\n",
        "\n",
        "### In this homework, you need to\n",
        "- ### implement and apply a softmax classifier to perform digits classification."
      ]
    },
    {
      "cell_type": "code",
      "metadata": {
        "id": "CRr-_JGm-XbU",
        "colab_type": "code",
        "colab": {}
      },
      "source": [
        "import os,sys\n",
        "import numpy as np\n",
        "import matplotlib.pyplot as plt\n",
        "%matplotlib inline"
      ],
      "execution_count": 0,
      "outputs": []
    },
    {
      "cell_type": "markdown",
      "metadata": {
        "id": "8hPvQ5kG-Xbk",
        "colab_type": "text"
      },
      "source": [
        "## Load MNIST Dataset\n",
        "The **mnist_data_loader.py** is a script to load mnist dataset, which is included in [TensorFlow tutorial](https://github.com/tensorflow/tensorflow/blob/r0.7/tensorflow/examples/tutorials/mnist/input_data.py)."
      ]
    },
    {
      "cell_type": "code",
      "metadata": {
        "id": "GGbIfkP3-Xbo",
        "colab_type": "code",
        "colab": {
          "base_uri": "https://localhost:8080/",
          "height": 247
        },
        "outputId": "b96bcb52-3087-4426-88e8-167c885d7da5"
      },
      "source": [
        "import mnist_data_loader\n",
        "\n",
        "mnist_dataset = mnist_data_loader.read_data_sets(\"./MNIST_data/\", one_hot=True)\n",
        "\n",
        "# training dataset\n",
        "train_set = mnist_dataset.train \n",
        "# test dataset\n",
        "test_set = mnist_dataset.test   \n",
        "\n",
        "train_size = train_set.num_examples\n",
        "test_size = test_set.num_examples\n",
        "print()\n",
        "print('Training dataset size: ', train_size)\n",
        "print('Test dataset size: ', test_size)"
      ],
      "execution_count": 5,
      "outputs": [
        {
          "output_type": "display_data",
          "data": {
            "text/html": [
              "<p style=\"color: red;\">\n",
              "The default version of TensorFlow in Colab will soon switch to TensorFlow 2.x.<br>\n",
              "We recommend you <a href=\"https://www.tensorflow.org/guide/migrate\" target=\"_blank\">upgrade</a> now \n",
              "or ensure your notebook will continue to use TensorFlow 1.x via the <code>%tensorflow_version 1.x</code> magic:\n",
              "<a href=\"https://colab.research.google.com/notebooks/tensorflow_version.ipynb\" target=\"_blank\">more info</a>.</p>\n"
            ],
            "text/plain": [
              "<IPython.core.display.HTML object>"
            ]
          },
          "metadata": {
            "tags": []
          }
        },
        {
          "output_type": "stream",
          "text": [
            "Successfully downloaded train-images-idx3-ubyte.gz bytes.\n",
            "Extracting ./MNIST_data/train-images-idx3-ubyte.gz\n",
            "Successfully downloaded train-labels-idx1-ubyte.gz bytes.\n",
            "Extracting ./MNIST_data/train-labels-idx1-ubyte.gz\n",
            "Successfully downloaded t10k-images-idx3-ubyte.gz bytes.\n",
            "Extracting ./MNIST_data/t10k-images-idx3-ubyte.gz\n",
            "Successfully downloaded t10k-labels-idx1-ubyte.gz bytes.\n",
            "Extracting ./MNIST_data/t10k-labels-idx1-ubyte.gz\n",
            "\n",
            "Training dataset size:  60000\n",
            "Test dataset size:  10000\n"
          ],
          "name": "stdout"
        }
      ]
    },
    {
      "cell_type": "markdown",
      "metadata": {
        "id": "XOztHLXM-Xb0",
        "colab_type": "text"
      },
      "source": [
        "## Data Example\n",
        "To have a better understand of MNIST dataset, we can visualize some examples in MNIST."
      ]
    },
    {
      "cell_type": "code",
      "metadata": {
        "id": "NO4vRWdI-Xb4",
        "colab_type": "code",
        "colab": {
          "base_uri": "https://localhost:8080/",
          "height": 298
        },
        "outputId": "fec07275-7004-47ea-ee9d-bc2ca4cc6be2"
      },
      "source": [
        "# You can choose any image in training set to visualize, example_id ∈ [0,60000)\n",
        "example_id = 0 \n",
        "\n",
        "image = train_set.images[example_id] # shape = 784 (28*28)\n",
        "label = train_set.labels[example_id] # shape = 10\n",
        "#print(image)\n",
        "print(label)\n",
        "plt.imshow(np.reshape(image,[28,28]))"
      ],
      "execution_count": 6,
      "outputs": [
        {
          "output_type": "stream",
          "text": [
            "[0. 0. 0. 0. 0. 1. 0. 0. 0. 0.]\n"
          ],
          "name": "stdout"
        },
        {
          "output_type": "execute_result",
          "data": {
            "text/plain": [
              "<matplotlib.image.AxesImage at 0x7f7a2e212e80>"
            ]
          },
          "metadata": {
            "tags": []
          },
          "execution_count": 6
        },
        {
          "output_type": "display_data",
          "data": {
            "image/png": "[encoded data removed]",
            "text/plain": [
              "<Figure size 432x288 with 1 Axes>"
            ]
          },
          "metadata": {
            "tags": []
          }
        }
      ]
    },
    {
      "cell_type": "markdown",
      "metadata": {
        "id": "bZsSQxZs-XcG",
        "colab_type": "text"
      },
      "source": [
        "## Set Hyerparameters\n",
        "You can modify hyerparameters by yourself."
      ]
    },
    {
      "cell_type": "code",
      "metadata": {
        "id": "R6tY7To7-XcK",
        "colab_type": "code",
        "colab": {}
      },
      "source": [
        "batch_size = 100\n",
        "max_epoch = 10\n",
        "learning_rate = 0.01\n",
        "\n",
        "# For regularization\n",
        "lamda = 0.5"
      ],
      "execution_count": 0,
      "outputs": []
    },
    {
      "cell_type": "markdown",
      "metadata": {
        "id": "OOqXv9HZ-XcS",
        "colab_type": "text"
      },
      "source": [
        "### TODO\n",
        "Before executing the following code, you should accomplish **./softmax_classifier.py**."
      ]
    },
    {
      "cell_type": "code",
      "metadata": {
        "id": "Veq4wH5Z-XcV",
        "colab_type": "code",
        "colab": {}
      },
      "source": [
        "from softmax_classifier import softmax_classifier"
      ],
      "execution_count": 0,
      "outputs": []
    },
    {
      "cell_type": "markdown",
      "metadata": {
        "id": "Q42mBOyt-Xcc",
        "colab_type": "text"
      },
      "source": [
        "## Train"
      ]
    },
    {
      "cell_type": "code",
      "metadata": {
        "scrolled": true,
        "id": "IpFT2RE7-Xcd",
        "colab_type": "code",
        "colab": {
          "base_uri": "https://localhost:8080/",
          "height": 1000
        },
        "outputId": "79c68310-8fa5-4398-805b-eeb334b4a89c"
      },
      "source": [
        "# Weight Initialization\n",
        "W = np.random.randn(28*28, 10) * 0.001\n",
        "\n",
        "loss_set = []\n",
        "accu_set = []\n",
        "disp_freq = 100\n",
        "\n",
        "# Training process\n",
        "for epoch in range(0, max_epoch):\n",
        "    iter_per_batch = train_size // batch_size\n",
        "    for batch_id in range(0, iter_per_batch):\n",
        "        batch = train_set.next_batch(batch_size) # get data of next batch\n",
        "        input, label = batch\n",
        "        \n",
        "        # softmax_classifier\n",
        "        loss, gradient, prediction = softmax_classifier(W, input , label, lamda)\n",
        "        \n",
        "        # Calculate accuracy\n",
        "        label = np.argmax(label, axis=1) # scalar representation\n",
        "        accuracy = sum(prediction == label) / float(len(label))\n",
        "        \n",
        "        loss_set.append(loss)\n",
        "        accu_set.append(accuracy)\n",
        "        \n",
        "        # Update weights\n",
        "        W = W - (learning_rate * gradient)\n",
        "        if batch_id % disp_freq == 0:\n",
        "            print(\"Epoch [{}][{}]\\t Batch [{}][{}]\\t Training Loss {:.4f}\\t Accuracy {:.4f}\".format(\n",
        "                epoch, max_epoch, batch_id, iter_per_batch, \n",
        "                loss, accuracy))\n",
        "    print()"
      ],
      "execution_count": 9,
      "outputs": [
        {
          "output_type": "stream",
          "text": [
            "Epoch [0][10]\t Batch [0][600]\t Training Loss 2.3048\t Accuracy 0.1100\n",
            "Epoch [0][10]\t Batch [100][600]\t Training Loss 1.7685\t Accuracy 0.7100\n",
            "Epoch [0][10]\t Batch [200][600]\t Training Loss 1.8208\t Accuracy 0.6800\n",
            "Epoch [0][10]\t Batch [300][600]\t Training Loss 1.7956\t Accuracy 0.7600\n",
            "Epoch [0][10]\t Batch [400][600]\t Training Loss 1.6551\t Accuracy 0.8100\n",
            "Epoch [0][10]\t Batch [500][600]\t Training Loss 1.7395\t Accuracy 0.8000\n",
            "\n",
            "Epoch [1][10]\t Batch [0][600]\t Training Loss 1.7294\t Accuracy 0.8200\n",
            "Epoch [1][10]\t Batch [100][600]\t Training Loss 1.7351\t Accuracy 0.7700\n",
            "Epoch [1][10]\t Batch [200][600]\t Training Loss 1.6453\t Accuracy 0.8100\n",
            "Epoch [1][10]\t Batch [300][600]\t Training Loss 1.6793\t Accuracy 0.8000\n",
            "Epoch [1][10]\t Batch [400][600]\t Training Loss 1.7010\t Accuracy 0.8500\n",
            "Epoch [1][10]\t Batch [500][600]\t Training Loss 1.7038\t Accuracy 0.7500\n",
            "\n",
            "Epoch [2][10]\t Batch [0][600]\t Training Loss 1.6808\t Accuracy 0.8500\n",
            "Epoch [2][10]\t Batch [100][600]\t Training Loss 1.7124\t Accuracy 0.8400\n",
            "Epoch [2][10]\t Batch [200][600]\t Training Loss 1.6626\t Accuracy 0.7700\n",
            "Epoch [2][10]\t Batch [300][600]\t Training Loss 1.7866\t Accuracy 0.7800\n",
            "Epoch [2][10]\t Batch [400][600]\t Training Loss 1.6809\t Accuracy 0.8800\n",
            "Epoch [2][10]\t Batch [500][600]\t Training Loss 1.6948\t Accuracy 0.7800\n",
            "\n",
            "Epoch [3][10]\t Batch [0][600]\t Training Loss 1.6969\t Accuracy 0.7700\n",
            "Epoch [3][10]\t Batch [100][600]\t Training Loss 1.7070\t Accuracy 0.8500\n",
            "Epoch [3][10]\t Batch [200][600]\t Training Loss 1.6420\t Accuracy 0.8100\n",
            "Epoch [3][10]\t Batch [300][600]\t Training Loss 1.6302\t Accuracy 0.8400\n",
            "Epoch [3][10]\t Batch [400][600]\t Training Loss 1.6638\t Accuracy 0.8100\n",
            "Epoch [3][10]\t Batch [500][600]\t Training Loss 1.6699\t Accuracy 0.8700\n",
            "\n",
            "Epoch [4][10]\t Batch [0][600]\t Training Loss 1.6284\t Accuracy 0.8500\n",
            "Epoch [4][10]\t Batch [100][600]\t Training Loss 1.7100\t Accuracy 0.7800\n",
            "Epoch [4][10]\t Batch [200][600]\t Training Loss 1.6972\t Accuracy 0.8100\n",
            "Epoch [4][10]\t Batch [300][600]\t Training Loss 1.6926\t Accuracy 0.8400\n",
            "Epoch [4][10]\t Batch [400][600]\t Training Loss 1.6235\t Accuracy 0.8300\n",
            "Epoch [4][10]\t Batch [500][600]\t Training Loss 1.7390\t Accuracy 0.7900\n",
            "\n",
            "Epoch [5][10]\t Batch [0][600]\t Training Loss 1.6259\t Accuracy 0.7700\n",
            "Epoch [5][10]\t Batch [100][600]\t Training Loss 1.7846\t Accuracy 0.7200\n",
            "Epoch [5][10]\t Batch [200][600]\t Training Loss 1.6637\t Accuracy 0.8500\n",
            "Epoch [5][10]\t Batch [300][600]\t Training Loss 1.6734\t Accuracy 0.8600\n",
            "Epoch [5][10]\t Batch [400][600]\t Training Loss 1.6766\t Accuracy 0.8700\n",
            "Epoch [5][10]\t Batch [500][600]\t Training Loss 1.6003\t Accuracy 0.8300\n",
            "\n",
            "Epoch [6][10]\t Batch [0][600]\t Training Loss 1.6704\t Accuracy 0.8200\n",
            "Epoch [6][10]\t Batch [100][600]\t Training Loss 1.7144\t Accuracy 0.8200\n",
            "Epoch [6][10]\t Batch [200][600]\t Training Loss 1.6830\t Accuracy 0.8200\n",
            "Epoch [6][10]\t Batch [300][600]\t Training Loss 1.7162\t Accuracy 0.8300\n",
            "Epoch [6][10]\t Batch [400][600]\t Training Loss 1.7168\t Accuracy 0.7800\n",
            "Epoch [6][10]\t Batch [500][600]\t Training Loss 1.6166\t Accuracy 0.8100\n",
            "\n",
            "Epoch [7][10]\t Batch [0][600]\t Training Loss 1.7332\t Accuracy 0.7600\n",
            "Epoch [7][10]\t Batch [100][600]\t Training Loss 1.7471\t Accuracy 0.7200\n",
            "Epoch [7][10]\t Batch [200][600]\t Training Loss 1.6973\t Accuracy 0.7800\n",
            "Epoch [7][10]\t Batch [300][600]\t Training Loss 1.6603\t Accuracy 0.7800\n",
            "Epoch [7][10]\t Batch [400][600]\t Training Loss 1.7021\t Accuracy 0.7900\n",
            "Epoch [7][10]\t Batch [500][600]\t Training Loss 1.6362\t Accuracy 0.8300\n",
            "\n",
            "Epoch [8][10]\t Batch [0][600]\t Training Loss 1.7260\t Accuracy 0.8100\n",
            "Epoch [8][10]\t Batch [100][600]\t Training Loss 1.6947\t Accuracy 0.8300\n",
            "Epoch [8][10]\t Batch [200][600]\t Training Loss 1.7218\t Accuracy 0.8100\n",
            "Epoch [8][10]\t Batch [300][600]\t Training Loss 1.6937\t Accuracy 0.8400\n",
            "Epoch [8][10]\t Batch [400][600]\t Training Loss 1.6885\t Accuracy 0.8300\n",
            "Epoch [8][10]\t Batch [500][600]\t Training Loss 1.7427\t Accuracy 0.8000\n",
            "\n",
            "Epoch [9][10]\t Batch [0][600]\t Training Loss 1.6894\t Accuracy 0.8300\n",
            "Epoch [9][10]\t Batch [100][600]\t Training Loss 1.6770\t Accuracy 0.7900\n",
            "Epoch [9][10]\t Batch [200][600]\t Training Loss 1.6428\t Accuracy 0.8600\n",
            "Epoch [9][10]\t Batch [300][600]\t Training Loss 1.6151\t Accuracy 0.8300\n",
            "Epoch [9][10]\t Batch [400][600]\t Training Loss 1.7428\t Accuracy 0.8200\n",
            "Epoch [9][10]\t Batch [500][600]\t Training Loss 1.6691\t Accuracy 0.7900\n",
            "\n"
          ],
          "name": "stdout"
        }
      ]
    },
    {
      "cell_type": "markdown",
      "metadata": {
        "id": "xS3rCnsY-Xck",
        "colab_type": "text"
      },
      "source": [
        "## Test"
      ]
    },
    {
      "cell_type": "code",
      "metadata": {
        "scrolled": true,
        "id": "9RqMp5dW-Xcm",
        "colab_type": "code",
        "colab": {
          "base_uri": "https://localhost:8080/",
          "height": 34
        },
        "outputId": "a52df73e-ccba-48e5-b72e-766b0e2b8f71"
      },
      "source": [
        "correct = 0\n",
        "iter_per_batch = test_size // batch_size\n",
        "\n",
        "# Test process\n",
        "for batch_id in range(0, iter_per_batch):\n",
        "    batch = test_set.next_batch(batch_size)\n",
        "    data, label = batch\n",
        "    \n",
        "    # We only need prediction results in testing\n",
        "    _,_, prediction = softmax_classifier(W, data , label, lamda)\n",
        "    label = np.argmax(label, axis=1)\n",
        "    \n",
        "    correct += sum(prediction == label)\n",
        "    \n",
        "accuracy = correct * 1.0 / test_size\n",
        "print('Test Accuracy: ', accuracy)"
      ],
      "execution_count": 10,
      "outputs": [
        {
          "output_type": "stream",
          "text": [
            "Test Accuracy:  0.8252\n"
          ],
          "name": "stdout"
        }
      ]
    },
    {
      "cell_type": "markdown",
      "metadata": {
        "id": "oxMi9FxC-Xcs",
        "colab_type": "text"
      },
      "source": [
        "## Plot"
      ]
    },
    {
      "cell_type": "code",
      "metadata": {
        "scrolled": false,
        "id": "LnWJM5lt-Xcv",
        "colab_type": "code",
        "colab": {
          "base_uri": "https://localhost:8080/",
          "height": 545
        },
        "outputId": "6cd038d8-d6ca-4007-83c3-92d221ba30c8"
      },
      "source": [
        "# training loss curve\n",
        "plt.figure()\n",
        "plt.plot(loss_set, 'b--')\n",
        "plt.xlabel('iteration')\n",
        "plt.ylabel('loss')\n",
        "# training accuracy curve\n",
        "plt.figure()\n",
        "plt.plot(accu_set, 'r--')\n",
        "plt.xlabel('iteration')\n",
        "plt.ylabel('accuracy');"
      ],
      "execution_count": 11,
      "outputs": [
        {
          "output_type": "display_data",
          "data": {
            "image/png": "[encoded data removed]",
            "text/plain": [
              "<Figure size 432x288 with 1 Axes>"
            ]
          },
          "metadata": {
            "tags": []
          }
        },
        {
          "output_type": "display_data",
          "data": {
            "image/png": "[encoded data removed]",
            "text/plain": [
              "<Figure size 432x288 with 1 Axes>"
            ]
          },
          "metadata": {
            "tags": []
          }
        }
      ]
    },
    {
      "cell_type": "markdown",
      "metadata": {
        "id": "Fuc3bDJ9-Xc2",
        "colab_type": "text"
      },
      "source": [
        "### You have finished homework2-softmax, congratulations!"
      ]
    }
  ]
}